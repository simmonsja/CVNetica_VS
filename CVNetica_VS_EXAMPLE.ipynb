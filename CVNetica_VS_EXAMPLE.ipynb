{
 "cells": [
  {
   "cell_type": "markdown",
   "metadata": {},
   "source": [
    "# Run CVnetica_VS\n",
    "Run all combinations of input/output variables of interest using the Netica C API."
   ]
  },
  {
   "cell_type": "markdown",
   "metadata": {},
   "source": [
    "## Notebook setup"
   ]
  },
  {
   "cell_type": "code",
   "execution_count": null,
   "metadata": {
    "collapsed": true
   },
   "outputs": [],
   "source": [
    "#notebook setup\n",
    "%load_ext autoreload\n",
    "%autoreload 2"
   ]
  },
  {
   "cell_type": "code",
   "execution_count": null,
   "metadata": {
    "collapsed": true
   },
   "outputs": [],
   "source": [
    "#load CVNetica from directory ./CVNetica_VS/ containing the module\n",
    "from CVNetica_VS_run import run_VS"
   ]
  },
  {
   "cell_type": "markdown",
   "metadata": {},
   "source": [
    "## Settings\n",
    "Settings supplied to run_VS to run CVNetica_VS"
   ]
  },
  {
   "cell_type": "code",
   "execution_count": null,
   "metadata": {
    "code_folding": [
     0
    ],
    "collapsed": true
   },
   "outputs": [],
   "source": [
    "VS_settings = {\n",
    "    #run_settings\n",
    "    'verboselvl': 2,\n",
    "    'warningstofile': True,\n",
    "    \n",
    "    # control_data\n",
    "    'baseNET': './example_data/TEST_Net_2.neta',\n",
    "    'baseCAS': './example_data/TEST_Dune_Erosion_Data.cas',\n",
    "    'pwdfile': 'NA.txt',\n",
    "    \n",
    "    # kfold_data\n",
    "    'CVflag': True,\n",
    "    'numfolds': 2,\n",
    "    \n",
    "    #scenario\n",
    "    'working_dir': './example_data/local_output/',\n",
    "    'input_vars': ['width0','vol0','d50','cumPxs','WIH3','maxTWL'],\n",
    "    'response_vars': ['dVBp'],\n",
    "    'combinations': [1,2,3,4],\n",
    "    'output_file': './example_data/output.csv',\n",
    "    \n",
    "    #learnCPTdata\n",
    "    'voodooPar': 1,\n",
    "    'EMflag': False, \n",
    "}"
   ]
  },
  {
   "cell_type": "markdown",
   "metadata": {},
   "source": [
    "## Run\n",
    "Use run_CV to run all combinations (n choose k) of the input and output variables specified above. This function will return netsRun which contains the name of each net run, and the class performance_data in which the performance metrics are provided for each parameter subset."
   ]
  },
  {
   "cell_type": "code",
   "execution_count": null,
   "metadata": {
    "scrolled": false
   },
   "outputs": [],
   "source": [
    "netsRun, performance_data = run_VS(VS_settings)"
   ]
  },
  {
   "cell_type": "code",
   "execution_count": null,
   "metadata": {
    "collapsed": true
   },
   "outputs": [],
   "source": []
  }
 ],
 "metadata": {
  "kernelspec": {
   "display_name": "Python 3",
   "language": "python",
   "name": "python3"
  },
  "language_info": {
   "codemirror_mode": {
    "name": "ipython",
    "version": 3
   },
   "file_extension": ".py",
   "mimetype": "text/x-python",
   "name": "python",
   "nbconvert_exporter": "python",
   "pygments_lexer": "ipython3",
   "version": "3.5.3"
  },
  "varInspector": {
   "cols": {
    "lenName": 16,
    "lenType": 16,
    "lenVar": 40
   },
   "kernels_config": {
    "python": {
     "delete_cmd_postfix": "",
     "delete_cmd_prefix": "del ",
     "library": "var_list.py",
     "varRefreshCmd": "print(var_dic_list())"
    },
    "r": {
     "delete_cmd_postfix": ") ",
     "delete_cmd_prefix": "rm(",
     "library": "var_list.r",
     "varRefreshCmd": "cat(var_dic_list()) "
    }
   },
   "types_to_exclude": [
    "module",
    "function",
    "builtin_function_or_method",
    "instance",
    "_Feature"
   ],
   "window_display": false
  }
 },
 "nbformat": 4,
 "nbformat_minor": 2
}
